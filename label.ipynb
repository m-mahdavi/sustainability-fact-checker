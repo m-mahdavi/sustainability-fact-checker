{
 "cells": [
  {
   "cell_type": "code",
   "execution_count": 12,
   "metadata": {},
   "outputs": [],
   "source": [
    "import pandas as pd\n",
    "import os"
   ]
  },
  {
   "cell_type": "code",
   "execution_count": 13,
   "metadata": {},
   "outputs": [],
   "source": [
    "csv_dir = \"/home/amirhosein/Desktop/Image-SustainabiltyReport/objectives\"\n",
    "for filename in os.listdir(csv_dir):\n",
    "    if filename.endswith(\".csv\"):\n",
    "        filepath = os.path.join(csv_dir, filename)\n",
    "        df = pd.read_csv(filepath)\n",
    "        \n",
    "        df.insert(0, \"ID\", range(0, len(df)))\n",
    "        \n",
    "        new_filename = filename.replace(\".csv\", \"_with_id.csv\")\n",
    "        df.to_csv(os.path.join(csv_dir, new_filename), index=False)\n"
   ]
  },
  {
   "cell_type": "code",
   "execution_count": null,
   "metadata": {},
   "outputs": [],
   "source": []
  }
 ],
 "metadata": {
  "kernelspec": {
   "display_name": "base",
   "language": "python",
   "name": "python3"
  },
  "language_info": {
   "codemirror_mode": {
    "name": "ipython",
    "version": 3
   },
   "file_extension": ".py",
   "mimetype": "text/x-python",
   "name": "python",
   "nbconvert_exporter": "python",
   "pygments_lexer": "ipython3",
   "version": "3.12.7"
  }
 },
 "nbformat": 4,
 "nbformat_minor": 2
}
