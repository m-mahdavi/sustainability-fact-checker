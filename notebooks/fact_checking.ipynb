{
  "cells": [
    {
      "cell_type": "markdown",
      "metadata": {
        "id": "UbBjs_mx1Et7"
      },
      "source": [
        "# Fact-Checking"
      ]
    },
    {
      "cell_type": "markdown",
      "metadata": {
        "id": "7yDqTGht1Et9"
      },
      "source": [
        "## Importing Libraries"
      ]
    },
    {
      "cell_type": "code",
      "execution_count": null,
      "metadata": {
        "id": "1oUhmPQ61Et9"
      },
      "outputs": [],
      "source": [
        "import io\n",
        "import os\n",
        "import sys\n",
        "import json\n",
        "import pandas as pd\n",
        "import IPython.display as dsp\n",
        "import matplotlib.pyplot as plt\n",
        "\n",
        "sys.path.append(\"../source\")\n",
        "import company"
      ]
    },
    {
      "cell_type": "markdown",
      "metadata": {},
      "source": [
        "## Initializing the Company"
      ]
    },
    {
      "cell_type": "code",
      "execution_count": null,
      "metadata": {},
      "outputs": [],
      "source": [
        "company_name = \"google\"\n",
        "c = company.Company(company_name)"
      ]
    },
    {
      "cell_type": "markdown",
      "metadata": {
        "id": "3nFcACRk1Et_"
      },
      "source": [
        "## Constructing the Database"
      ]
    },
    {
      "cell_type": "code",
      "execution_count": null,
      "metadata": {
        "id": "vePBARq01Et_"
      },
      "outputs": [],
      "source": [
        "c.extract_text_blocks()\n",
        "c.extract_images()\n",
        "c.save_database()"
      ]
    },
    {
      "cell_type": "markdown",
      "metadata": {},
      "source": [
        "## Analyzing the Database"
      ]
    },
    {
      "cell_type": "code",
      "execution_count": null,
      "metadata": {},
      "outputs": [],
      "source": [
        "c.load_database()\n",
        "\n",
        "plt.hist([len(t[\"text\"]) for t in c.text_blocks], bins=10, edgecolor=\"black\")\n",
        "plt.title(\"Histogram of Values\")\n",
        "plt.show()\n",
        "\n",
        "index = 56\n",
        "print(c.text_blocks[index])\n",
        "print(c.text_blocks[index][\"text\"])\n",
        "\n",
        "index = 4\n",
        "print(c.images[index])\n",
        "dsp.display(dsp.Image(filename=c.images[index][\"image_path\"], width=300, height=300))"
      ]
    },
    {
      "cell_type": "markdown",
      "metadata": {
        "id": "KGUnPCac1EuA"
      },
      "source": [
        "## Generating Verification Report"
      ]
    },
    {
      "cell_type": "code",
      "execution_count": null,
      "metadata": {},
      "outputs": [],
      "source": [
        "objectives_path = os.path.join(\"../objectives\", company_name, \"2020.csv\")\n",
        "df = pd.read_csv(objectives_path)\n",
        "objective = df[\"Text Blocks\"].sample(n=1).iloc[0]\n",
        "objective"
      ]
    },
    {
      "cell_type": "code",
      "execution_count": null,
      "metadata": {},
      "outputs": [],
      "source": [
        "text_evidence, image_evidence = c.retrieve_evidence(objective)\n",
        "verification_report = c.verify_objective(objective=objective, text_evidence=text_evidence, llm_model=\"llama3.2\")\n",
        "dsp.display(dsp.Markdown(verification_report))\n",
        "for image in image_evidence[:3]:\n",
        "    dsp.display(dsp.Image(filename=image[\"record\"][\"image_path\"], width=300, height=300))\n"
      ]
    }
  ],
  "metadata": {
    "colab": {
      "provenance": []
    },
    "kernelspec": {
      "display_name": "Python 3",
      "language": "python",
      "name": "python3"
    },
    "language_info": {
      "codemirror_mode": {
        "name": "ipython",
        "version": 3
      },
      "file_extension": ".py",
      "mimetype": "text/x-python",
      "name": "python",
      "nbconvert_exporter": "python",
      "pygments_lexer": "ipython3",
      "version": "3.10.12"
    }
  },
  "nbformat": 4,
  "nbformat_minor": 0
}
