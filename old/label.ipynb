{
 "cells": [
  {
   "cell_type": "code",
   "execution_count": 12,
   "metadata": {},
   "outputs": [],
   "source": [
    "import pandas as pd\n",
    "import os"
   ]
  },
  {
   "cell_type": "code",
   "execution_count": 13,
   "metadata": {},
   "outputs": [],
   "source": [
    "csv_dir = \"/home/amirhosein/Desktop/Image-SustainabiltyReport/objectives\"\n",
    "for filename in os.listdir(csv_dir):\n",
    "    if filename.endswith(\".csv\"):\n",
    "        filepath = os.path.join(csv_dir, filename)\n",
    "        df = pd.read_csv(filepath)\n",
    "        \n",
    "        df.insert(0, \"ID\", range(0, len(df)))\n",
    "        \n",
    "        new_filename = filename.replace(\".csv\", \"_with_id.csv\")\n",
    "        df.to_csv(os.path.join(csv_dir, new_filename), index=False)\n"
   ]
  },
  {
   "cell_type": "code",
   "execution_count": null,
   "metadata": {},
   "outputs": [],
   "source": [
    "import pandas as pd\n",
    "import os\n",
    "import re\n",
    "\n",
    "objective_dir = \"/home/amirhosein/Desktop/Image-SustainabiltyReport/objectives\"\n",
    "image_dir = \"/home/amirhosein/Desktop/Image-SustainabiltyReport/images\"\n",
    "label_dir = \"/home/amirhosein/Desktop/Image-SustainabiltyReport/labels\"\n",
    "\n",
    "os.makedirs(label_dir, exist_ok=True)\n",
    "\n",
    "for filename in os.listdir(objective_dir):\n",
    "    if not filename.endswith(\".csv\"):\n",
    "        continue\n",
    "\n",
    "    base_name = filename.replace(\".csv\", \"\") \n",
    "    goal_path = os.path.join(objective_dir, filename)\n",
    "    image_folder = os.path.join(image_dir, base_name)\n",
    "\n",
    "\n",
    "    df_goals = pd.read_csv(goal_path)\n",
    "    if \"ID\" not in df_goals.columns:\n",
    "        print(f\"Missing 'ID' column in: {filename}\")\n",
    "        continue\n",
    "    goal_ids = df_goals[\"ID\"].tolist()\n",
    "\n",
    "    image_files = [f for f in os.listdir(image_folder) if f.endswith((\".jpg\", \".jpeg\", \".png\", \".jpx\"))]\n",
    "    image_ids = [os.path.splitext(f)[0] for f in image_files if re.match(r\"^\\d+\", f)]\n",
    "    image_ids = [int(i) for i in image_ids]\n",
    "    image_ids = sorted(image_ids)\n",
    "    label_rows = [(g, i, None) for g in goal_ids for i in image_ids]\n",
    "\n",
    "    df_label = pd.DataFrame(label_rows, columns=[\"goal_id\", \"image_id\", \"label\"])\n",
    "\n",
    "    label_filename = f\"label_{base_name}.csv\"\n",
    "    df_label.to_csv(os.path.join(label_dir, label_filename), index=False)\n"
   ]
  }
 ],
 "metadata": {
  "kernelspec": {
   "display_name": "base",
   "language": "python",
   "name": "python3"
  },
  "language_info": {
   "codemirror_mode": {
    "name": "ipython",
    "version": 3
   },
   "file_extension": ".py",
   "mimetype": "text/x-python",
   "name": "python",
   "nbconvert_exporter": "python",
   "pygments_lexer": "ipython3",
   "version": "3.12.7"
  }
 },
 "nbformat": 4,
 "nbformat_minor": 2
}
