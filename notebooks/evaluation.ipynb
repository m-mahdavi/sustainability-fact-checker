{
  "cells": [
    {
      "cell_type": "markdown",
      "metadata": {
        "id": "UbBjs_mx1Et7"
      },
      "source": [
        "# Evaluation"
      ]
    },
    {
      "cell_type": "markdown",
      "metadata": {
        "id": "7yDqTGht1Et9"
      },
      "source": [
        "## Importing Libraries"
      ]
    },
    {
      "cell_type": "code",
      "execution_count": null,
      "metadata": {
        "id": "1oUhmPQ61Et9"
      },
      "outputs": [],
      "source": [
        "import io\n",
        "import os\n",
        "import sys\n",
        "import json\n",
        "import glob\n",
        "import pickle\n",
        "import PIL.Image\n",
        "import pandas as pd\n",
        "import IPython.display as dsp\n",
        "import matplotlib.pyplot as plt\n",
        "import rouge_score.rouge_scorer\n",
        "import bert_score\n",
        "import transformers\n",
        "\n",
        "transformers.logging.set_verbosity_error()\n",
        "\n",
        "sys.path.append(\"../source\")\n",
        "import company\n",
        "import baseline"
      ]
    },
    {
      "cell_type": "markdown",
      "metadata": {},
      "source": [
        "## Initializing the Company and Baseline"
      ]
    },
    {
      "cell_type": "code",
      "execution_count": null,
      "metadata": {},
      "outputs": [],
      "source": [
        "company_name = \"pepsico\"\n",
        "c = company.Company(company_name)\n",
        "c.load_database()\n",
        "b = baseline.Baseline(company_name)\n",
        "b.extract_text_and_images()\n"
      ]
    },
    {
      "cell_type": "markdown",
      "metadata": {},
      "source": [
        "## Loading the Sustainability Objective"
      ]
    },
    {
      "cell_type": "code",
      "execution_count": null,
      "metadata": {},
      "outputs": [],
      "source": [
        "csv_files = glob.glob(os.path.join(\"../objectives\", company_name, \"*.csv\"))\n",
        "df_list = [pd.read_csv(f) for f in csv_files]\n",
        "df = pd.concat(df_list, ignore_index=True)\n",
        "objective = df[\"Text Blocks\"].sample(n=1).iloc[0]\n",
        "objective"
      ]
    },
    {
      "cell_type": "markdown",
      "metadata": {
        "id": "KGUnPCac1EuA"
      },
      "source": [
        "## Generating Verification Report"
      ]
    },
    {
      "cell_type": "code",
      "execution_count": null,
      "metadata": {},
      "outputs": [],
      "source": [
        "text_evidence, image_evidence = c.retrieve_evidence(objective)\n",
        "system_verification_report = c.verify_objective(objective=objective, text_evidence=text_evidence, llm_model=\"llama3.2\")\n",
        "image_path = image_evidence[0][\"record\"][\"image_path\"]\n",
        "with PIL.Image.open(image_path) as img:\n",
        "    img_byte_arr = io.BytesIO()\n",
        "    img.save(img_byte_arr, format=img.format)\n",
        "    system_image_bytes = img_byte_arr.getvalue()\n"
      ]
    },
    {
      "cell_type": "code",
      "execution_count": null,
      "metadata": {},
      "outputs": [],
      "source": [
        "baseline_verification_report = b.verify_objective(objective=objective, llm_model=\"llama3.2\")\n",
        "baseline_image_bytes = b.rank_images_for_query(objective)[0]"
      ]
    },
    {
      "cell_type": "markdown",
      "metadata": {},
      "source": [
        "## Saving the Outputs"
      ]
    },
    {
      "cell_type": "code",
      "execution_count": null,
      "metadata": {},
      "outputs": [],
      "source": [
        "output = {\n",
        "    \"objective\": objective, \n",
        "    \"system_verification_report\": system_verification_report, \n",
        "    \"system_image_bytes\": system_image_bytes, \n",
        "    \"baseline_verification_report\": baseline_verification_report, \n",
        "    \"baseline_image_bytes\": baseline_image_bytes \n",
        "} \n",
        "files = os.listdir(\"../outputs\") \n",
        "matching_files = [f for f in files if company_name in f] \n",
        "count = len(matching_files) \n",
        "output_path = os.path.join(\"../outputs\", f\"{company_name}_{count}.pkl\") \n",
        "pickle.dump(output, open(output_path, \"wb\"))"
      ]
    },
    {
      "cell_type": "markdown",
      "metadata": {},
      "source": [
        "## Calculating the Evaluation Measures"
      ]
    },
    {
      "cell_type": "code",
      "execution_count": null,
      "metadata": {},
      "outputs": [],
      "source": [
        "scorer = rouge_score.rouge_scorer.RougeScorer([\"rouge1\", \"rouge2\", \"rougeL\"], use_stemmer=True)\n",
        "\n",
        "results = []\n",
        "for file in os.listdir(\"../outputs\"):\n",
        "    if not file.endswith(\".pkl\"):\n",
        "        continue\n",
        "    \n",
        "    with open(os.path.join(\"../outputs\", file), \"rb\") as f:\n",
        "        data = pickle.load(f)\n",
        "\n",
        "    objective = data[\"objective\"]\n",
        "    system_report = data[\"system_verification_report\"]\n",
        "    baseline_report = data[\"baseline_verification_report\"]\n",
        "\n",
        "    rouge_system = scorer.score(objective, system_report)\n",
        "    rouge_baseline = scorer.score(objective, baseline_report)\n",
        "\n",
        "    P_sys, R_sys, F1_sys = bert_score.score([system_report], [objective], lang=\"en\")\n",
        "    P_base, R_base, F1_base = bert_score.score([baseline_report], [objective], lang=\"en\")\n",
        "\n",
        "    results.append({\n",
        "        \"file\": file,\n",
        "        \"rouge_system\": rouge_system,\n",
        "        \"rouge_baseline\": rouge_baseline,\n",
        "        \"bertscore_system\": F1_sys.item(),\n",
        "        \"bertscore_baseline\": F1_base.item()\n",
        "    })\n",
        "\n",
        "df = pd.DataFrame(results)\n",
        "\n",
        "df[\"rouge1_system\"] = df[\"rouge_system\"].apply(lambda x: x[\"rouge1\"].fmeasure)\n",
        "df[\"rouge2_system\"] = df[\"rouge_system\"].apply(lambda x: x[\"rouge2\"].fmeasure)\n",
        "df[\"rougeL_system\"] = df[\"rouge_system\"].apply(lambda x: x[\"rougeL\"].fmeasure)\n",
        "\n",
        "df[\"rouge1_baseline\"] = df[\"rouge_baseline\"].apply(lambda x: x[\"rouge1\"].fmeasure)\n",
        "df[\"rouge2_baseline\"] = df[\"rouge_baseline\"].apply(lambda x: x[\"rouge2\"].fmeasure)\n",
        "df[\"rougeL_baseline\"] = df[\"rouge_baseline\"].apply(lambda x: x[\"rougeL\"].fmeasure)\n",
        "\n",
        "df = df[[\n",
        "    \"file\",\n",
        "    \"rouge1_system\", \"rouge1_baseline\",\n",
        "    \"rouge2_system\", \"rouge2_baseline\",\n",
        "    \"rougeL_system\", \"rougeL_baseline\",\n",
        "    \"bertscore_system\", \"bertscore_baseline\"\n",
        "]]\n",
        "\n",
        "avg_row = df.mean(numeric_only=True)\n",
        "avg_row[\"file\"] = \"Mean\"\n",
        "df = pd.concat([df, pd.DataFrame([avg_row])], ignore_index=True)\n",
        "\n",
        "numeric_cols = df.select_dtypes(include=[\"float\", \"int\"]).columns\n",
        "df[numeric_cols] = df[numeric_cols].round(2)\n",
        "\n",
        "print(df.to_markdown(index=False))"
      ]
    },
    {
      "cell_type": "code",
      "execution_count": null,
      "metadata": {},
      "outputs": [],
      "source": [
        "df = pd.read_csv(\"../outputs/human_evaluation_results.csv\")\n",
        "df[\"preference\"].value_counts()"
      ]
    }
  ],
  "metadata": {
    "colab": {
      "provenance": []
    },
    "kernelspec": {
      "display_name": "Python 3",
      "language": "python",
      "name": "python3"
    },
    "language_info": {
      "codemirror_mode": {
        "name": "ipython",
        "version": 3
      },
      "file_extension": ".py",
      "mimetype": "text/x-python",
      "name": "python",
      "nbconvert_exporter": "python",
      "pygments_lexer": "ipython3",
      "version": "3.10.12"
    }
  },
  "nbformat": 4,
  "nbformat_minor": 0
}
