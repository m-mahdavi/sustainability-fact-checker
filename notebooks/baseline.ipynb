{
  "cells": [
    {
      "cell_type": "markdown",
      "metadata": {
        "id": "UbBjs_mx1Et7"
      },
      "source": [
        "# Baseline"
      ]
    },
    {
      "cell_type": "markdown",
      "metadata": {
        "id": "7yDqTGht1Et9"
      },
      "source": [
        "## Importing Libraries"
      ]
    },
    {
      "cell_type": "code",
      "execution_count": 1,
      "metadata": {
        "id": "1oUhmPQ61Et9"
      },
      "outputs": [],
      "source": [
        "import io\n",
        "import os\n",
        "import sys\n",
        "import json\n",
        "import pandas as pd\n",
        "import IPython.display as dsp\n",
        "import matplotlib.pyplot as plt\n",
        "\n",
        "sys.path.append(\"../source\")\n",
        "import baseline"
      ]
    },
    {
      "cell_type": "markdown",
      "metadata": {},
      "source": [
        "## Initializing the Company"
      ]
    },
    {
      "cell_type": "code",
      "execution_count": null,
      "metadata": {},
      "outputs": [],
      "source": [
        "company_name = \"pepsico\"\n",
        "c = baseline.Baseline(company_name)"
      ]
    },
    {
      "cell_type": "markdown",
      "metadata": {
        "id": "3nFcACRk1Et_"
      },
      "source": [
        "## Constructing the Database"
      ]
    },
    {
      "cell_type": "code",
      "execution_count": null,
      "metadata": {
        "id": "vePBARq01Et_"
      },
      "outputs": [],
      "source": [
        "c.extract_text_and_images()"
      ]
    },
    {
      "cell_type": "markdown",
      "metadata": {
        "id": "KGUnPCac1EuA"
      },
      "source": [
        "## Generating Verification Report"
      ]
    },
    {
      "cell_type": "code",
      "execution_count": null,
      "metadata": {},
      "outputs": [],
      "source": [
        "objectives_path = os.path.join(\"../objectives\", company_name, \"2020.csv\")\n",
        "df = pd.read_csv(objectives_path)\n",
        "objective = df[\"Text Blocks\"].sample(n=1).iloc[0]\n",
        "objective"
      ]
    },
    {
      "cell_type": "code",
      "execution_count": null,
      "metadata": {},
      "outputs": [],
      "source": [
        "verification_report = c.verify_objective(objective=objective, llm_model=\"llama3.2\")\n",
        "dsp.display(dsp.Markdown(verification_report))\n",
        "for image in c.rank_images_for_query(objective)[:3]:\n",
        "    dsp.display(dsp.Image(data=io.BytesIO(image[\"image_bytes\"]).getvalue(), width=300, height=300))\n"
      ]
    }
  ],
  "metadata": {
    "colab": {
      "provenance": []
    },
    "kernelspec": {
      "display_name": "Python 3",
      "language": "python",
      "name": "python3"
    },
    "language_info": {
      "codemirror_mode": {
        "name": "ipython",
        "version": 3
      },
      "file_extension": ".py",
      "mimetype": "text/x-python",
      "name": "python",
      "nbconvert_exporter": "python",
      "pygments_lexer": "ipython3",
      "version": "3.10.12"
    }
  },
  "nbformat": 4,
  "nbformat_minor": 0
}
