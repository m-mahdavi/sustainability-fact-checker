{
 "cells": [
  {
   "cell_type": "markdown",
   "metadata": {},
   "source": [
    "# Automatic Sustainability Objective Detection"
   ]
  },
  {
   "cell_type": "markdown",
   "metadata": {},
   "source": [
    "## === Setup ==="
   ]
  },
  {
   "cell_type": "markdown",
   "metadata": {},
   "source": [
    "### Importing Libraries"
   ]
  },
  {
   "cell_type": "code",
   "execution_count": null,
   "metadata": {},
   "outputs": [],
   "source": [
    "import os\n",
    "import sys\n",
    "import pandas\n",
    "import IPython.display\n",
    "\n",
    "sys.path.append(\"../../goalspotter_core/source\")\n",
    "import document\n",
    "import data_preprocessing\n",
    "import transformer_model\n",
    "\n",
    "pandas.set_option(\"display.max_rows\", None)\n",
    "pandas.set_option(\"display.max_columns\", None)\n",
    "pandas.set_option(\"display.max_colwidth\", None)"
   ]
  },
  {
   "cell_type": "markdown",
   "metadata": {},
   "source": [
    "### Setting up the Data Preprocessor"
   ]
  },
  {
   "cell_type": "code",
   "execution_count": null,
   "metadata": {},
   "outputs": [],
   "source": [
    "data_preprocessor = data_preprocessing.DataPreprocessing()"
   ]
  },
  {
   "cell_type": "markdown",
   "metadata": {},
   "source": [
    "### Loading Our Trained Models"
   ]
  },
  {
   "cell_type": "code",
   "execution_count": null,
   "metadata": {},
   "outputs": [],
   "source": [
    "target_values = [\"Not Goal\", \"Goal\"]\n",
    "goal_detection_model = transformer_model.TextClassification(target_values, name=\"distilroberta-base\", load_from=\"../../goalspotter_core/models/goal-detection\")"
   ]
  },
  {
   "cell_type": "markdown",
   "metadata": {},
   "source": [
    "### Objective Extraction Helper Function"
   ]
  },
  {
   "cell_type": "code",
   "execution_count": null,
   "metadata": {},
   "outputs": [],
   "source": [
    "def extract_objectives_from_url(url, content_type=\"pdf\"):\n",
    "    \n",
    "    # Extracting Text Blocks of the Sustainability Report\n",
    "    doc = document.Document(url)\n",
    "    doc.content_type = content_type\n",
    "    content = doc.read_local_file()\n",
    "    parsed_content = doc.parse_content(content)\n",
    "    text_blocks = doc.segment_text(parsed_content)\n",
    "    sentences = doc.get_sentences(text_blocks)\n",
    "    tdf = pandas.DataFrame({\"Text Blocks\": sentences})    \n",
    "    \n",
    "    # Running the Goal Detection Model\n",
    "    tdf[\"text\"] = tdf[\"Text Blocks\"].copy()\n",
    "    tdf = data_preprocessor.clean_text_blocks(tdf, \"text\", level=\"essential\")\n",
    "    tdf = data_preprocessor.filter_text_blocks(tdf, \"text\", keep_only_size=(0, 300))\n",
    "    predictions = goal_detection_model.predict(tdf[\"text\"].tolist())\n",
    "    tdf[\"Goal Score\"] = predictions[\"Goal\"].values\n",
    "    tdf = tdf.drop([\"text\"], axis=1)\n",
    "    tdf = tdf.sort_values(\"Goal Score\", ascending=False)    \n",
    "    tdf = tdf.fillna(\"\")\n",
    "    return tdf    "
   ]
  },
  {
   "cell_type": "markdown",
   "metadata": {},
   "source": [
    "## === Processing New Sustainability Reports ==="
   ]
  },
  {
   "cell_type": "code",
   "execution_count": null,
   "metadata": {},
   "outputs": [],
   "source": [
    "company_name = \"walmart\"\n",
    "for file_name in os.listdir(f\"../documents/{company_name}\"):\n",
    "    input_path = f\"../documents/{company_name}/{file_name}\"\n",
    "    base_name = os.path.splitext(file_name)[0]\n",
    "    output_dir = f\"../objectives/{company_name}\"\n",
    "    output_path = f\"{output_dir}/{base_name}.csv\"\n",
    "    os.makedirs(output_dir, exist_ok=True)\n",
    "    # IPython.display.display(IPython.display.IFrame(f\"file://{input_path}\", width=1000, height=800))\n",
    "    df = extract_objectives_from_url(input_path )\n",
    "    df = df.drop_duplicates(subset=\"Text Blocks\", keep=\"first\")\n",
    "    df = df[df[\"Text Blocks\"].str.len() >= 25]\n",
    "    df = df[df[\"Goal Score\"] >= 0.1]\n",
    "    df.insert(0, \"ID\", range(1, len(df) + 1))\n",
    "    df.to_csv(output_path, index=False)\n",
    "    IPython.display.display(df)"
   ]
  }
 ],
 "metadata": {
  "kernelspec": {
   "display_name": "Python 3",
   "language": "python",
   "name": "python3"
  },
  "language_info": {
   "codemirror_mode": {
    "name": "ipython",
    "version": 3
   },
   "file_extension": ".py",
   "mimetype": "text/x-python",
   "name": "python",
   "nbconvert_exporter": "python",
   "pygments_lexer": "ipython3",
   "version": "3.10.12"
  }
 },
 "nbformat": 4,
 "nbformat_minor": 4
}
